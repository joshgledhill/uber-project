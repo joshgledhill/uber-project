{
 "cells": [
  {
   "cell_type": "code",
   "execution_count": 2,
   "metadata": {},
   "outputs": [
    {
     "name": "stdout",
     "output_type": "stream",
     "text": [
      "<class 'pandas.core.frame.DataFrame'>\n",
      "RangeIndex: 100000 entries, 0 to 99999\n",
      "Columns: 4 entries, Dispatching_base_num to locationID\n",
      "dtypes: int64(1), object(3)\n",
      "memory usage: 20.0 MB\n"
     ]
    }
   ],
   "source": [
    "\n",
    "import pandas as pd\n",
    "import warnings\n",
    "warnings.filterwarnings(\"ignore\")\n",
    "df = pd.read_csv(r\"C:\\Users\\Josh\\Desktop\\Personal Project\\Portfolio Projects\\Uber\\Data\\Datasets\\uber-raw-data-janjune-15_sample.csv\")\n",
    "df.info(verbose=False, memory_usage=\"deep\")"
   ]
  }
 ],
 "metadata": {
  "kernelspec": {
   "display_name": "base",
   "language": "python",
   "name": "python3"
  },
  "language_info": {
   "codemirror_mode": {
    "name": "ipython",
    "version": 3
   },
   "file_extension": ".py",
   "mimetype": "text/x-python",
   "name": "python",
   "nbconvert_exporter": "python",
   "pygments_lexer": "ipython3",
   "version": "0.0.0"
  }
 },
 "nbformat": 4,
 "nbformat_minor": 2
}
